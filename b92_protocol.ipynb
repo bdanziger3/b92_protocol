{
 "cells": [
  {
   "cell_type": "markdown",
   "metadata": {},
   "source": [
    "# B92 Protocol\n",
    "\n",
    "William Sanford, Blake Danziger  \n",
    "Physics 75  \n",
    "Lab 1  \n",
    "Adapted from the implementation of the BB84 Protocol found at https://qiskit.org/textbook/ch-algorithms/quantum-key-distribution.html"
   ]
  },
  {
   "cell_type": "markdown",
   "metadata": {},
   "source": [
    "## Protocol Steps\n",
    "1. Alice generates a random bit string and creates a corresponding qubit string that is mapped from the bit string as follows: 0 -> |z+>, 1 -> |x+>. Alice then sends these qubits to Bob over a public channel.\n",
    "2. Bob generates a random bit string and measures Alice's qubits with the following mapping from his bit string: 0 -> {|x+>, |x->}, 1 -> {|z+>, |z->}.\n",
    "3. Bob sends his measurement bits back to Alice over a public channel.\n",
    "4. Alice and Bob both remove all the bits in their strings corresponding to the 0s in Bob's string of measurements."
   ]
  },
  {
   "cell_type": "markdown",
   "metadata": {},
   "source": [
    "### Import Packages"
   ]
  },
  {
   "cell_type": "code",
   "execution_count": 34,
   "metadata": {},
   "outputs": [],
   "source": [
    "from qiskit import QuantumCircuit, Aer, transpile, assemble\n",
    "from qiskit.visualization import plot_histogram, plot_bloch_multivector\n",
    "from numpy.random import randint\n",
    "import numpy as np\n",
    "import pandas as pd"
   ]
  },
  {
   "cell_type": "markdown",
   "metadata": {},
   "source": [
    "### Define all the meta parameters we will need for the protocol\n",
    "- n: the number of bits that Alice and Bob will randomly generate in the protocol\n",
    "- test: boolean that will standardize the pseudo-random fucntions in the protocol and print the steps of the protocol along the way"
   ]
  },
  {
   "cell_type": "code",
   "execution_count": 35,
   "metadata": {},
   "outputs": [],
   "source": [
    "n = 30\n",
    "test = True\n",
    "rand_seed = False\n",
    "\n",
    "if rand_seed:\n",
    "    np.random.seed(seed=0)"
   ]
  },
  {
   "cell_type": "markdown",
   "metadata": {},
   "source": [
    "### Create the qubits that Alice will send across the public channel\n",
    "- We define a function that takes a list of classical bits, and outputs a list of qubits that are encoded according to the following mapping: 0 -> |z+>, 1 -> |x+>"
   ]
  },
  {
   "cell_type": "code",
   "execution_count": 36,
   "metadata": {},
   "outputs": [],
   "source": [
    "def alice_encode(input_arr):\n",
    "    output = []\n",
    "    for bit in input_arr:\n",
    "        qc = QuantumCircuit(1,1)\n",
    "        \n",
    "        if bit == 1:\n",
    "            qc.h(0)\n",
    "        qc.barrier()\n",
    "        output.append(qc)\n",
    "    return output"
   ]
  },
  {
   "cell_type": "code",
   "execution_count": 37,
   "metadata": {},
   "outputs": [
    {
     "name": "stdout",
     "output_type": "stream",
     "text": [
      "Alice's randomly generated bits:\n",
      "[1 0 1 1 0 1 1 1 0 1 1 0 1 0 1 0 1 1 1 1 0 0 1 0 1 0 0 0 1 1]\n"
     ]
    }
   ],
   "source": [
    "alice_bits = randint(2, size=n)\n",
    "alice_qubits = alice_encode(alice_bits)\n",
    "\n",
    "\n",
    "if test:\n",
    "    \n",
    "    print('Alice\\'s randomly generated bits:')\n",
    "    print(alice_bits)\n",
    "    \n",
    "#     print('Alice qubits:')\n",
    "#     for i in alice_qubits:\n",
    "#         print(i)"
   ]
  },
  {
   "cell_type": "markdown",
   "metadata": {},
   "source": [
    "### Bob measures Alice's qubits based on a random bit string and sends his measurement string back to Alice across the public channel\n",
    "- We define a function that takes a list of qubits and a list of classical bits. We loop through the lists in parallel, and if the corresponding classical bit is a 0, we measure the qubit in the x-basis. We measure the quibit in the z-basis otherwise. We return all of the measurement outputs in a list"
   ]
  },
  {
   "cell_type": "code",
   "execution_count": 38,
   "metadata": {},
   "outputs": [],
   "source": [
    "def bob_decode(alice_qubits, bob_bits):\n",
    "    output = []\n",
    "    for alice_qubit, bob_bit in zip(alice_qubits, bob_bits):\n",
    "        \n",
    "        # Measure in the x-basis\n",
    "        if bob_bit == 0:\n",
    "            alice_qubit.h(0)\n",
    "            alice_qubit.measure(0, 0)\n",
    "        \n",
    "        # Measure in the z-basis\n",
    "        else:\n",
    "            alice_qubit.measure(0, 0)\n",
    "            \n",
    "        # Simulate the measurement (taken directly from the qiskit example)\n",
    "        qasm_sim = Aer.get_backend('qasm_simulator')\n",
    "        qobj = assemble(alice_qubit, shots=1, memory=True)\n",
    "        result = qasm_sim.run(qobj).result()\n",
    "        measured_bit = int(result.get_memory()[0])\n",
    "        output.append(measured_bit)\n",
    "    return output"
   ]
  },
  {
   "cell_type": "code",
   "execution_count": 39,
   "metadata": {},
   "outputs": [
    {
     "name": "stdout",
     "output_type": "stream",
     "text": [
      "Bob's randomly generated bits:\n",
      "[0 0 0 0 1 0 1 1 0 1 0 0 0 0 0 0 0 1 1 0 1 1 1 0 0 0 0 1 0 0]\n",
      "Bob's measurement yeild:\n",
      "[0, 1, 0, 0, 0, 0, 0, 1, 1, 1, 0, 1, 0, 0, 0, 1, 0, 0, 1, 0, 0, 0, 1, 0, 0, 0, 0, 0, 0, 0]\n"
     ]
    }
   ],
   "source": [
    "bob_bits = randint(2, size=n)\n",
    "bob_yield = bob_decode(alice_qubits, bob_bits)\n",
    "\n",
    "if test:\n",
    "    print('Bob\\'s randomly generated bits:')\n",
    "    print(bob_bits)\n",
    "    \n",
    "    print('Bob\\'s measurement yeild:')\n",
    "    print(bob_yield)"
   ]
  },
  {
   "cell_type": "markdown",
   "metadata": {},
   "source": [
    "### Create the shared keys\n",
    "- We define a function that takes both Alice's and Bob's original bit strings, and removes all of the bits that correspond to a 0 in Bob's string of measurements. We return a tuple of stirngs that are a concatenation of these bits"
   ]
  },
  {
   "cell_type": "code",
   "execution_count": 40,
   "metadata": {},
   "outputs": [],
   "source": [
    "def remove_zeros(alice_bits, bob_bits, bob_yield):\n",
    "    bob_key = ''\n",
    "    alice_key = ''\n",
    "    \n",
    "    for a_bit, b_bit, b_yield in zip(alice_bits, bob_bits, bob_yield):\n",
    "        if b_yield == 1:\n",
    "            bob_key += str(b_bit)\n",
    "            alice_key += str(a_bit)\n",
    "\n",
    "    return alice_key, bob_key"
   ]
  },
  {
   "cell_type": "code",
   "execution_count": 41,
   "metadata": {},
   "outputs": [
    {
     "name": "stdout",
     "output_type": "stream",
     "text": [
      "Key strings\n",
      "Alice's key: 01010011\n",
      "Bob's key: 01010011\n"
     ]
    }
   ],
   "source": [
    "alice_key, bob_key = remove_zeros(alice_bits, bob_bits, bob_yield)\n",
    "\n",
    "if test:\n",
    "    print('Key strings')\n",
    "    print(f'Alice\\'s key: {alice_key}')\n",
    "    print(f'Bob\\'s key: {bob_key}')"
   ]
  },
  {
   "cell_type": "markdown",
   "metadata": {},
   "source": [
    "### Testing Results\n",
    "- We can test if the protocol worked by checking if Alice and Bob have the same keys"
   ]
  },
  {
   "cell_type": "code",
   "execution_count": 42,
   "metadata": {},
   "outputs": [
    {
     "name": "stdout",
     "output_type": "stream",
     "text": [
      "The protocol worked and Alice and Bob have the same keys!\n"
     ]
    }
   ],
   "source": [
    "if bob_key == alice_key:\n",
    "    print('The protocol worked and Alice and Bob have the same keys!')\n",
    "else:\n",
    "    print('Something went wrong! Alice and Bob do not have the same keys!')"
   ]
  },
  {
   "cell_type": "markdown",
   "metadata": {},
   "source": [
    "### More Thorough Testing\n",
    "If we want to be more thorough, we can run through the protocol many times and see if Alice's key matches Bob's key in each run. We will use the same method as above in a more condensed form."
   ]
  },
  {
   "cell_type": "code",
   "execution_count": 43,
   "metadata": {},
   "outputs": [],
   "source": [
    "def test(shots, n):\n",
    "    correct = 0\n",
    "    \n",
    "    for i in range(shots):\n",
    "        alice_bits = randint(2, size=n)\n",
    "        alice_qubits = alice_encode(alice_bits)\n",
    "        \n",
    "        bob_bits = randint(2, size=n)\n",
    "        bob_yield = bob_decode(alice_qubits, bob_bits)\n",
    "        \n",
    "        alice_key, bob_key = remove_zeros(alice_bits, bob_bits, bob_yield)\n",
    "        \n",
    "        if alice_key == bob_key:\n",
    "            correct += 1\n",
    "    \n",
    "    print(f'After {shots} tests, Bob and Alice have matching keys {(correct/shots)*100}% of the time.')"
   ]
  },
  {
   "cell_type": "code",
   "execution_count": 44,
   "metadata": {},
   "outputs": [
    {
     "name": "stdout",
     "output_type": "stream",
     "text": [
      "After 10 tests, Bob and Alice have matching keys 100.0% of the time.\n"
     ]
    }
   ],
   "source": [
    "test(10,30)"
   ]
  }
 ],
 "metadata": {
  "kernelspec": {
   "display_name": "Python 3",
   "language": "python",
   "name": "python3"
  },
  "language_info": {
   "codemirror_mode": {
    "name": "ipython",
    "version": 3
   },
   "file_extension": ".py",
   "mimetype": "text/x-python",
   "name": "python",
   "nbconvert_exporter": "python",
   "pygments_lexer": "ipython3",
   "version": "3.7.6"
  }
 },
 "nbformat": 4,
 "nbformat_minor": 4
}
