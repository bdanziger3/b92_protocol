{
 "cells": [
  {
   "cell_type": "markdown",
   "metadata": {},
   "source": [
    "# B92 Protocol"
   ]
  },
  {
   "cell_type": "markdown",
   "metadata": {},
   "source": [
    "### Import all the needed packages"
   ]
  },
  {
   "cell_type": "code",
   "execution_count": 117,
   "metadata": {},
   "outputs": [],
   "source": [
    "from qiskit import QuantumCircuit, Aer, transpile, assemble\n",
    "from qiskit.visualization import plot_histogram, plot_bloch_multivector\n",
    "from numpy.random import randint\n",
    "import numpy as np\n",
    "import pandas as pd"
   ]
  },
  {
   "cell_type": "markdown",
   "metadata": {},
   "source": [
    "### Define all the meta parameters we will need for the protocol\n",
    "We define the number of bits that are to be used in the circuit as n. For testing puposes, we can set the randomness seed to be the same every time."
   ]
  },
  {
   "cell_type": "code",
   "execution_count": 118,
   "metadata": {},
   "outputs": [],
   "source": [
    "n = 30\n",
    "np.random.seed(seed=0)\n",
    "test = True"
   ]
  },
  {
   "cell_type": "markdown",
   "metadata": {},
   "source": [
    "### Create the qubits that Alice will send across the public channel"
   ]
  },
  {
   "cell_type": "code",
   "execution_count": 119,
   "metadata": {},
   "outputs": [],
   "source": [
    "def alice_encode(input_arr):\n",
    "    output = []\n",
    "    for bit in input_arr:\n",
    "        qc = QuantumCircuit(1,1)\n",
    "        \n",
    "        if bit == 1:\n",
    "            qc.h(0)\n",
    "        qc.barrier()\n",
    "        output.append(qc)\n",
    "    return output\n",
    "            \n",
    "            "
   ]
  },
  {
   "cell_type": "code",
   "execution_count": 120,
   "metadata": {},
   "outputs": [
    {
     "name": "stdout",
     "output_type": "stream",
     "text": [
      "Alice bits:\n",
      "[0 1 1 0 1 1 1 1 1 1 1 0 0 1 0 0 0 0 0 1 0 1 1 0 0 1 1 1 1 0]\n"
     ]
    }
   ],
   "source": [
    "alice_bits = randint(2, size=n)\n",
    "alice_qubits = alice_encode(alice_bits)\n",
    "\n",
    "\n",
    "if test:\n",
    "    \n",
    "    print('Alice bits:')\n",
    "    print(alice_bits)\n",
    "    \n",
    "#     print('Alice qubits:')\n",
    "#     for i in alice_qubits:\n",
    "#         print(i)\n"
   ]
  },
  {
   "cell_type": "markdown",
   "metadata": {},
   "source": [
    "### Bob decides generates an n-bit rnadom string and the measures Alices qubits."
   ]
  },
  {
   "cell_type": "code",
   "execution_count": 121,
   "metadata": {},
   "outputs": [],
   "source": [
    "def bob_decode(alice_qubits, bob_bits):\n",
    "    output = []\n",
    "    for alice_qubit, bob_bit in zip(alice_qubits, bob_bits):\n",
    "        \n",
    "        # Measure in the x-basis\n",
    "        if bob_bit == 0:\n",
    "            alice_qubit.h(0)\n",
    "            alice_qubit.measure(0, 0)\n",
    "        \n",
    "        # Measure in the z-basis\n",
    "        else:\n",
    "            alice_qubit.measure(0, 0)\n",
    "            \n",
    "        # Simulate the measurement (taken directly from the qiskit example)\n",
    "        qasm_sim = Aer.get_backend('qasm_simulator')\n",
    "        qobj = assemble(alice_qubit, shots=1, memory=True)\n",
    "        result = qasm_sim.run(qobj).result()\n",
    "        measured_bit = int(result.get_memory()[0])\n",
    "        output.append(measured_bit)\n",
    "    return output\n",
    "\n",
    "def remove_zeros(alice_bits, bob_bits, bob_yield):\n",
    "    bob_key = ''\n",
    "    alice_key = ''\n",
    "    \n",
    "    for a_bit, b_bit, b_yield in zip(alice_bits, bob_bits, bob_yield):\n",
    "        if b_yield == 1:\n",
    "            bob_key += str(b_bit)\n",
    "            alice_key += str(b_bit)\n",
    "\n",
    "    return alice_key, bob_key\n",
    "    "
   ]
  },
  {
   "cell_type": "code",
   "execution_count": 122,
   "metadata": {},
   "outputs": [
    {
     "name": "stdout",
     "output_type": "stream",
     "text": [
      "Bob bits:\n",
      "[1 0 1 0 1 1 0 1 1 0 0 1 0 1 1 1 1 1 0 1 0 1 1 1 1 0 1 0 0 1]\n",
      "Bob yeild\n",
      "[0, 0, 1, 1, 1, 1, 0, 1, 0, 0, 0, 0, 0, 0, 0, 0, 0, 0, 1, 0, 0, 0, 0, 0, 0, 0, 1, 0, 0, 0]\n",
      "Key stirings\n",
      "Alice key: 1011101\n",
      "Bob key: 1011101\n"
     ]
    }
   ],
   "source": [
    "bob_bits = randint(2, size=n)\n",
    "bob_yield = bob_decode(alice_qubits, bob_bits)\n",
    "alice_key, bob_key = remove_zeros(alice_bits, bob_bits, bob_yield)\n",
    "\n",
    "if test:\n",
    "    print('Bob bits:')\n",
    "    print(bob_bits)\n",
    "    \n",
    "    print('Bob yeild')\n",
    "    print(bob_yield)\n",
    "    \n",
    "    print('Key stirings')\n",
    "    print(f'Alice key: {alice_key}')\n",
    "    print(f'Bob key: {bob_key}')"
   ]
  }
 ],
 "metadata": {
  "kernelspec": {
   "display_name": "Python 3",
   "language": "python",
   "name": "python3"
  },
  "language_info": {
   "codemirror_mode": {
    "name": "ipython",
    "version": 3
   },
   "file_extension": ".py",
   "mimetype": "text/x-python",
   "name": "python",
   "nbconvert_exporter": "python",
   "pygments_lexer": "ipython3",
   "version": "3.7.6"
  }
 },
 "nbformat": 4,
 "nbformat_minor": 4
}
